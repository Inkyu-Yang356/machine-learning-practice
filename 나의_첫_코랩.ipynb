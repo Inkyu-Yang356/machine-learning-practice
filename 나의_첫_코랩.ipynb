{
  "nbformat": 4,
  "nbformat_minor": 0,
  "metadata": {
    "colab": {
      "provenance": [],
      "gpuType": "T4",
      "mount_file_id": "19KaNOTTqFPAMbLdJRnSRO8vi1xcBJ0J4",
      "authorship_tag": "ABX9TyOfcKsrQgbbfrjbuU46zMB5",
      "include_colab_link": true
    },
    "kernelspec": {
      "name": "python3",
      "display_name": "Python 3"
    },
    "language_info": {
      "name": "python"
    },
    "accelerator": "GPU"
  },
  "cells": [
    {
      "cell_type": "markdown",
      "metadata": {
        "id": "view-in-github",
        "colab_type": "text"
      },
      "source": [
        "<a href=\"https://colab.research.google.com/github/Inkyu-Yang356/machine-learning-practice/blob/main/%EB%82%98%EC%9D%98_%EC%B2%AB_%EC%BD%94%EB%9E%A9.ipynb\" target=\"_parent\"><img src=\"https://colab.research.google.com/assets/colab-badge.svg\" alt=\"Open In Colab\"/></a>"
      ]
    },
    {
      "cell_type": "code",
      "source": [
        "print(\"Hello, DeepLearning!\")"
      ],
      "metadata": {
        "id": "Ov28D8_evTji"
      },
      "execution_count": null,
      "outputs": []
    },
    {
      "cell_type": "code",
      "source": [
        "import tensorflow as tf\n",
        "print(tf.__version__)"
      ],
      "metadata": {
        "id": "4Aj84qvnvgSK"
      },
      "execution_count": null,
      "outputs": []
    },
    {
      "cell_type": "markdown",
      "source": [
        "#모두의 딥러닝\n",
        "##모두의 딥러닝\n",
        "###모두의 딥러닝"
      ],
      "metadata": {
        "id": "dWfdrYdwvw0j"
      }
    },
    {
      "cell_type": "code",
      "source": [
        "class Dog :\n",
        "  def __init__(self, name, color, size) :\n",
        "    self.name = name\n",
        "    self.color = color\n",
        "    self.size = size\n",
        "\n",
        "  def bark(self) :\n",
        "    print(\"멍멍\")\n",
        "\n",
        "\n",
        "pet = Dog(\"멍멍이\", \"검정색\", \"중형\")\n",
        "print(pet.name, pet.color, pet.size)\n",
        "pet.bark()"
      ],
      "metadata": {
        "id": "xAvP4mDGwHhK"
      },
      "execution_count": null,
      "outputs": []
    },
    {
      "cell_type": "code",
      "source": [
        "from google.colab import drive\n",
        "drive.mount('/content/drive')"
      ],
      "metadata": {
        "colab": {
          "base_uri": "https://localhost:8080/"
        },
        "id": "fuWbV269zMvD",
        "outputId": "de0a65d7-4fa4-43ed-e828-879a14a87b78"
      },
      "execution_count": 11,
      "outputs": [
        {
          "output_type": "stream",
          "name": "stdout",
          "text": [
            "Drive already mounted at /content/drive; to attempt to forcibly remount, call drive.mount(\"/content/drive\", force_remount=True).\n"
          ]
        }
      ]
    },
    {
      "cell_type": "code",
      "source": [
        "!git push -u origin main"
      ],
      "metadata": {
        "colab": {
          "base_uri": "https://localhost:8080/"
        },
        "id": "DQ42ipxn_k1m",
        "outputId": "40f83826-2611-4e6f-b1b4-5cb7fbeefc91"
      },
      "execution_count": 23,
      "outputs": [
        {
          "output_type": "stream",
          "name": "stdout",
          "text": [
            "Enumerating objects: 7, done.\n",
            "Counting objects:  14% (1/7)\rCounting objects:  28% (2/7)\rCounting objects:  42% (3/7)\rCounting objects:  57% (4/7)\rCounting objects:  71% (5/7)\rCounting objects:  85% (6/7)\rCounting objects: 100% (7/7)\rCounting objects: 100% (7/7), done.\n",
            "Delta compression using up to 2 threads\n",
            "Compressing objects:  16% (1/6)\rCompressing objects:  33% (2/6)\rCompressing objects:  50% (3/6)\rCompressing objects:  66% (4/6)\rCompressing objects:  83% (5/6)\rCompressing objects: 100% (6/6)\rCompressing objects: 100% (6/6), done.\n",
            "Writing objects:  16% (1/6)\rWriting objects:  33% (2/6)\rWriting objects:  50% (3/6)\rWriting objects:  66% (4/6)\rWriting objects:  83% (5/6)\rWriting objects: 100% (6/6)\rWriting objects: 100% (6/6), 2.92 KiB | 249.00 KiB/s, done.\n",
            "Total 6 (delta 2), reused 0 (delta 0), pack-reused 0\n",
            "remote: Resolving deltas: 100% (2/2), done.\u001b[K\n",
            "remote: \u001b[1;31merror\u001b[m: GH013: Repository rule violations found for refs/heads/main.\u001b[K\n",
            "remote: \n",
            "remote: - GITHUB PUSH PROTECTION\u001b[K\n",
            "remote:   —————————————————————————————————————————\u001b[K\n",
            "remote:     Resolve the following violations before pushing again\u001b[K\n",
            "remote: \n",
            "remote:     - Push cannot contain secrets\u001b[K\n",
            "remote: \n",
            "remote:     \u001b[K\n",
            "remote:      (?) Learn how to resolve a blocked push\u001b[K\n",
            "remote:      https://docs.github.com/code-security/secret-scanning/working-with-secret-scanning-and-push-protection/working-with-push-protection-from-the-command-line#resolving-a-blocked-push\u001b[K\n",
            "remote:     \u001b[K\n",
            "remote:     \u001b[K\n",
            "remote:       —— GitHub Personal Access Token ——————————————————————\u001b[K\n",
            "remote:        locations:\u001b[K\n",
            "remote:          - commit: f94330cb95403430cf0fa9fadd8312e01a6e3c60\u001b[K\n",
            "remote:            path: 나의 첫 코랩.ipynb:1\u001b[K\n",
            "remote:     \u001b[K\n",
            "remote:        (?) To push, remove secret from commit(s) or follow this URL to allow the secret.\u001b[K\n",
            "remote:        https://github.com/Inkyu-Yang356/machine-learning-practice/security/secret-scanning/unblock-secret/2uCBTyU3joSPuq2vsaffhreSeAq\u001b[K\n",
            "remote:     \u001b[K\n",
            "remote: \n",
            "remote: \n",
            "To https://github.com/Inkyu-Yang356/machine-learning-practice.git\n",
            " \u001b[31m! [remote rejected]\u001b[m main -> main (push declined due to repository rule violations)\n",
            "\u001b[31merror: failed to push some refs to 'https://github.com/Inkyu-Yang356/machine-learning-practice.git'\n",
            "\u001b[m"
          ]
        }
      ]
    }
  ]
}